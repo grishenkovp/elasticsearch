{
  "nbformat": 4,
  "nbformat_minor": 0,
  "metadata": {
    "colab": {
      "name": "google_colab_elasticsearch_test.ipynb",
      "provenance": [],
      "collapsed_sections": []
    },
    "kernelspec": {
      "name": "python3",
      "display_name": "Python 3"
    },
    "language_info": {
      "name": "python"
    }
  },
  "cells": [
    {
      "cell_type": "code",
      "metadata": {
        "colab": {
          "base_uri": "https://localhost:8080/"
        },
        "id": "H94b-oXNdbxb",
        "outputId": "cc6c6d57-6762-45a3-e000-8b20763b40b9"
      },
      "source": [
        "%%bash\n",
        "sudo apt-get update\n",
        "sudo apt-get install default-jre"
      ],
      "execution_count": 1,
      "outputs": [
        {
          "output_type": "stream",
          "name": "stdout",
          "text": [
            "Get:1 http://security.ubuntu.com/ubuntu bionic-security InRelease [88.7 kB]\n",
            "Get:2 https://cloud.r-project.org/bin/linux/ubuntu bionic-cran40/ InRelease [3,626 B]\n",
            "Ign:3 https://developer.download.nvidia.com/compute/cuda/repos/ubuntu1804/x86_64  InRelease\n",
            "Hit:4 http://archive.ubuntu.com/ubuntu bionic InRelease\n",
            "Ign:5 https://developer.download.nvidia.com/compute/machine-learning/repos/ubuntu1804/x86_64  InRelease\n",
            "Get:6 https://developer.download.nvidia.com/compute/cuda/repos/ubuntu1804/x86_64  Release [696 B]\n",
            "Hit:7 https://developer.download.nvidia.com/compute/machine-learning/repos/ubuntu1804/x86_64  Release\n",
            "Get:8 http://ppa.launchpad.net/c2d4u.team/c2d4u4.0+/ubuntu bionic InRelease [15.9 kB]\n",
            "Get:9 http://archive.ubuntu.com/ubuntu bionic-updates InRelease [88.7 kB]\n",
            "Get:10 https://developer.download.nvidia.com/compute/cuda/repos/ubuntu1804/x86_64  Release.gpg [836 B]\n",
            "Get:11 http://security.ubuntu.com/ubuntu bionic-security/restricted amd64 Packages [685 kB]\n",
            "Get:12 http://security.ubuntu.com/ubuntu bionic-security/main amd64 Packages [2,446 kB]\n",
            "Hit:13 http://ppa.launchpad.net/cran/libgit2/ubuntu bionic InRelease\n",
            "Get:14 http://security.ubuntu.com/ubuntu bionic-security/universe amd64 Packages [1,444 kB]\n",
            "Get:15 http://archive.ubuntu.com/ubuntu bionic-backports InRelease [74.6 kB]\n",
            "Hit:16 http://ppa.launchpad.net/deadsnakes/ppa/ubuntu bionic InRelease\n",
            "Hit:18 http://ppa.launchpad.net/graphics-drivers/ppa/ubuntu bionic InRelease\n",
            "Get:19 https://developer.download.nvidia.com/compute/cuda/repos/ubuntu1804/x86_64  Packages [829 kB]\n",
            "Get:20 http://ppa.launchpad.net/c2d4u.team/c2d4u4.0+/ubuntu bionic/main Sources [1,813 kB]\n",
            "Get:21 http://archive.ubuntu.com/ubuntu bionic-updates/universe amd64 Packages [2,225 kB]\n",
            "Get:22 http://ppa.launchpad.net/c2d4u.team/c2d4u4.0+/ubuntu bionic/main amd64 Packages [930 kB]\n",
            "Get:23 http://archive.ubuntu.com/ubuntu bionic-updates/main amd64 Packages [2,888 kB]\n",
            "Get:24 http://archive.ubuntu.com/ubuntu bionic-updates/restricted amd64 Packages [719 kB]\n",
            "Fetched 14.3 MB in 2s (5,712 kB/s)\n",
            "Reading package lists...\n",
            "Reading package lists...\n",
            "Building dependency tree...\n",
            "Reading state information...\n",
            "default-jre is already the newest version (2:1.11-68ubuntu1~18.04.1).\n",
            "default-jre set to manually installed.\n",
            "0 upgraded, 0 newly installed, 0 to remove and 42 not upgraded.\n"
          ]
        }
      ]
    },
    {
      "cell_type": "code",
      "metadata": {
        "id": "CU6NzJeYdiyy"
      },
      "source": [
        "import os\n",
        "import time\n",
        "from subprocess import Popen, PIPE, STDOUT"
      ],
      "execution_count": 2,
      "outputs": []
    },
    {
      "cell_type": "code",
      "metadata": {
        "id": "r966tSVGdkPq"
      },
      "source": [
        "%%bash\n",
        "wget https://artifacts.elastic.co/downloads/elasticsearch/elasticsearch-7.0.0-linux-x86_64.tar.gz -q\n",
        "tar -xzf elasticsearch-7.0.0-linux-x86_64.tar.gz\n",
        "chown -R daemon:daemon elasticsearch-7.0.0"
      ],
      "execution_count": 3,
      "outputs": []
    },
    {
      "cell_type": "code",
      "metadata": {
        "id": "P5Gifo-PBk-z"
      },
      "source": [
        "time.sleep(30)"
      ],
      "execution_count": 4,
      "outputs": []
    },
    {
      "cell_type": "code",
      "metadata": {
        "id": "X-wfF9UzdlNy"
      },
      "source": [
        "es_server = Popen(['elasticsearch-7.0.0/bin/elasticsearch'], \n",
        "                  stdout=PIPE, stderr=STDOUT,\n",
        "                  preexec_fn=lambda: os.setuid(1)\n",
        "                 )"
      ],
      "execution_count": 5,
      "outputs": []
    },
    {
      "cell_type": "code",
      "metadata": {
        "id": "XbTYl5wjCBat"
      },
      "source": [
        "time.sleep(30)"
      ],
      "execution_count": 6,
      "outputs": []
    },
    {
      "cell_type": "code",
      "metadata": {
        "colab": {
          "base_uri": "https://localhost:8080/"
        },
        "id": "aBriq08ohSli",
        "outputId": "fbef66ba-1de1-4e6f-893d-d407aeb48721"
      },
      "source": [
        "%%bash\n",
        "curl -X GET \"localhost:9200/\""
      ],
      "execution_count": 7,
      "outputs": [
        {
          "output_type": "stream",
          "name": "stdout",
          "text": [
            "{\n",
            "  \"name\" : \"3ae48a305a99\",\n",
            "  \"cluster_name\" : \"elasticsearch\",\n",
            "  \"cluster_uuid\" : \"cZJpAYwNQZ6Hy-Ux7AFtvw\",\n",
            "  \"version\" : {\n",
            "    \"number\" : \"7.0.0\",\n",
            "    \"build_flavor\" : \"default\",\n",
            "    \"build_type\" : \"tar\",\n",
            "    \"build_hash\" : \"b7e28a7\",\n",
            "    \"build_date\" : \"2019-04-05T22:55:32.697037Z\",\n",
            "    \"build_snapshot\" : false,\n",
            "    \"lucene_version\" : \"8.0.0\",\n",
            "    \"minimum_wire_compatibility_version\" : \"6.7.0\",\n",
            "    \"minimum_index_compatibility_version\" : \"6.0.0-beta1\"\n",
            "  },\n",
            "  \"tagline\" : \"You Know, for Search\"\n",
            "}\n"
          ]
        },
        {
          "output_type": "stream",
          "name": "stderr",
          "text": [
            "  % Total    % Received % Xferd  Average Speed   Time    Time     Time  Current\n",
            "                                 Dload  Upload   Total   Spent    Left  Speed\n",
            "\r  0     0    0     0    0     0      0      0 --:--:-- --:--:-- --:--:--     0\r100   504  100   504    0     0   6631      0 --:--:-- --:--:-- --:--:--  6631\n"
          ]
        }
      ]
    },
    {
      "cell_type": "code",
      "metadata": {
        "id": "1cfiz5lmenuk"
      },
      "source": [
        "%%bash\n",
        "pip install elasticsearch -q"
      ],
      "execution_count": 8,
      "outputs": []
    },
    {
      "cell_type": "code",
      "metadata": {
        "id": "djmsfUeLeN5B"
      },
      "source": [
        "import pandas as pd\n",
        "import numpy as np\n",
        "import pprint\n",
        "from elasticsearch import Elasticsearch\n",
        "from elasticsearch import helpers"
      ],
      "execution_count": 9,
      "outputs": []
    },
    {
      "cell_type": "code",
      "metadata": {
        "id": "asq9E7vNey_5"
      },
      "source": [
        "es = Elasticsearch()"
      ],
      "execution_count": 10,
      "outputs": []
    },
    {
      "cell_type": "markdown",
      "metadata": {
        "id": "Hz0wOn2ae7wR"
      },
      "source": [
        "### Create an index"
      ]
    },
    {
      "cell_type": "code",
      "metadata": {
        "colab": {
          "base_uri": "https://localhost:8080/"
        },
        "id": "lhrIugrMeRpp",
        "outputId": "6b7c61f2-bdfe-46d1-9742-0f64190d6b52"
      },
      "source": [
        "es.indices.create(index=\"test\")"
      ],
      "execution_count": 11,
      "outputs": [
        {
          "output_type": "execute_result",
          "data": {
            "text/plain": [
              "{'acknowledged': True, 'index': 'test', 'shards_acknowledged': True}"
            ]
          },
          "metadata": {},
          "execution_count": 11
        }
      ]
    },
    {
      "cell_type": "code",
      "metadata": {
        "colab": {
          "base_uri": "https://localhost:8080/"
        },
        "id": "UNPipMoveVmh",
        "outputId": "26d95d0f-27ac-49cb-df05-787d090cbbcf"
      },
      "source": [
        "es.indices.exists(index=\"test\")"
      ],
      "execution_count": 12,
      "outputs": [
        {
          "output_type": "execute_result",
          "data": {
            "text/plain": [
              "True"
            ]
          },
          "metadata": {},
          "execution_count": 12
        }
      ]
    },
    {
      "cell_type": "markdown",
      "metadata": {
        "id": "uB5ixLSOhuYS"
      },
      "source": [
        "### Delete an index"
      ]
    },
    {
      "cell_type": "code",
      "metadata": {
        "colab": {
          "base_uri": "https://localhost:8080/"
        },
        "id": "OKkTOtQfhvqC",
        "outputId": "7b125caf-5cca-44ed-d3f2-e1f561d9c69f"
      },
      "source": [
        "es.indices.delete(index=\"test\")"
      ],
      "execution_count": 13,
      "outputs": [
        {
          "output_type": "execute_result",
          "data": {
            "text/plain": [
              "{'acknowledged': True}"
            ]
          },
          "metadata": {},
          "execution_count": 13
        }
      ]
    },
    {
      "cell_type": "code",
      "metadata": {
        "colab": {
          "base_uri": "https://localhost:8080/"
        },
        "id": "M6DCLfrPh0BI",
        "outputId": "72ddba7b-0fb5-40e6-8a81-60fca09325d6"
      },
      "source": [
        "es.indices.exists(index=\"test\")"
      ],
      "execution_count": 14,
      "outputs": [
        {
          "output_type": "execute_result",
          "data": {
            "text/plain": [
              "False"
            ]
          },
          "metadata": {},
          "execution_count": 14
        }
      ]
    },
    {
      "cell_type": "markdown",
      "metadata": {
        "id": "K5OR7VjWh2mB"
      },
      "source": [
        "### Insert and get data"
      ]
    },
    {
      "cell_type": "code",
      "metadata": {
        "id": "rrVK9WM8h2Qp"
      },
      "source": [
        "doc_1 = {\"city\": \"Paris\", \"country\": \"France\"}\n",
        "doc_2 = {\"city\": \"Rome\", \"country\": \"Italy\"}\n",
        "doc_3 = {\"city\": \"Berlin\", \"country\": \"Germany\"}\n",
        "doc_4 = {\"city\": \"Ottawa\", \"country\": \"Canada\"}\n",
        "doc_5 = {\"city\": \"Madrid\", \"country\": \"Spain\"}"
      ],
      "execution_count": 15,
      "outputs": []
    },
    {
      "cell_type": "code",
      "metadata": {
        "colab": {
          "base_uri": "https://localhost:8080/"
        },
        "id": "YoLc2ACdj1DG",
        "outputId": "aa12f413-3a9d-40ec-ee42-cf6e83aea423"
      },
      "source": [
        "for number in range(1,6):\n",
        "    record_data = locals().get(\"doc_\" + str(number))\n",
        "    es.index(index=\"cities\", doc_type=\"geography\", id=number, body=record_data)"
      ],
      "execution_count": 16,
      "outputs": [
        {
          "output_type": "stream",
          "name": "stderr",
          "text": [
            "/usr/local/lib/python3.7/dist-packages/ipykernel_launcher.py:3: DeprecationWarning: The 'body' parameter is deprecated for the 'index' API and will be removed in a future version. Instead use the 'document' parameter. See https://github.com/elastic/elasticsearch-py/issues/1698 for more information\n",
            "  This is separate from the ipykernel package so we can avoid doing imports until\n",
            "/usr/local/lib/python3.7/dist-packages/elasticsearch/connection/base.py:209: ElasticsearchWarning: [types removal] Specifying types in document index requests is deprecated, use the typeless endpoints instead (/{index}/_doc/{id}, /{index}/_doc, or /{index}/_create/{id}).\n",
            "  warnings.warn(message, category=ElasticsearchWarning)\n"
          ]
        }
      ]
    },
    {
      "cell_type": "code",
      "metadata": {
        "colab": {
          "base_uri": "https://localhost:8080/"
        },
        "id": "_SYa1C91mg5h",
        "outputId": "b1de02a7-a1cb-415a-9863-7064c371ae51"
      },
      "source": [
        "record_data_2 = es.get(index=\"cities\", doc_type=\"geography\", id=2)\n",
        "pprint.pprint(record_data_2)"
      ],
      "execution_count": 17,
      "outputs": [
        {
          "output_type": "stream",
          "name": "stdout",
          "text": [
            "{'_id': '2',\n",
            " '_index': 'cities',\n",
            " '_primary_term': 1,\n",
            " '_seq_no': 1,\n",
            " '_source': {'city': 'Rome', 'country': 'Italy'},\n",
            " '_type': 'geography',\n",
            " '_version': 1,\n",
            " 'found': True}\n"
          ]
        },
        {
          "output_type": "stream",
          "name": "stderr",
          "text": [
            "/usr/local/lib/python3.7/dist-packages/elasticsearch/connection/base.py:209: ElasticsearchWarning: [types removal] Specifying types in document get requests is deprecated, use the /{index}/_doc/{id} endpoint instead.\n",
            "  warnings.warn(message, category=ElasticsearchWarning)\n"
          ]
        }
      ]
    },
    {
      "cell_type": "code",
      "metadata": {
        "id": "iLbGKxLfqS9Z"
      },
      "source": [
        "doc_6_7 = [{\"city\": \"Tokyo\", \"country\": \"Japan\"},{\"city\": \"Moscow\", \"country\": \"Russia\"}]"
      ],
      "execution_count": 18,
      "outputs": []
    },
    {
      "cell_type": "code",
      "metadata": {
        "id": "a7ksaP4mshua"
      },
      "source": [
        "es_data = []"
      ],
      "execution_count": 19,
      "outputs": []
    },
    {
      "cell_type": "code",
      "metadata": {
        "id": "WW3oaGjisHhX"
      },
      "source": [
        "for id, source in zip (range(6,8),doc_6_7):\n",
        "    es_data.append({\n",
        "    \"_index\": \"cities\",\n",
        "    \"_type\": \"geography\",\n",
        "    \"_id\": id,\n",
        "    \"_source\": source\n",
        "  })"
      ],
      "execution_count": 20,
      "outputs": []
    },
    {
      "cell_type": "code",
      "metadata": {
        "colab": {
          "base_uri": "https://localhost:8080/"
        },
        "id": "gR3N9BvltYgq",
        "outputId": "d1b1ff5b-7acc-40e4-a4b9-b31e4d1340b6"
      },
      "source": [
        "es_data"
      ],
      "execution_count": 21,
      "outputs": [
        {
          "output_type": "execute_result",
          "data": {
            "text/plain": [
              "[{'_id': 6,\n",
              "  '_index': 'cities',\n",
              "  '_source': {'city': 'Tokyo', 'country': 'Japan'},\n",
              "  '_type': 'geography'},\n",
              " {'_id': 7,\n",
              "  '_index': 'cities',\n",
              "  '_source': {'city': 'Moscow', 'country': 'Russia'},\n",
              "  '_type': 'geography'}]"
            ]
          },
          "metadata": {},
          "execution_count": 21
        }
      ]
    },
    {
      "cell_type": "code",
      "metadata": {
        "colab": {
          "base_uri": "https://localhost:8080/"
        },
        "id": "QJ3En2XptbAR",
        "outputId": "64f908ea-9feb-4fb5-98be-43b6db91a9f0"
      },
      "source": [
        "helpers.bulk(es, es_data)"
      ],
      "execution_count": 22,
      "outputs": [
        {
          "output_type": "stream",
          "name": "stderr",
          "text": [
            "/usr/local/lib/python3.7/dist-packages/elasticsearch/connection/base.py:209: ElasticsearchWarning: [types removal] Specifying types in bulk requests is deprecated.\n",
            "  warnings.warn(message, category=ElasticsearchWarning)\n"
          ]
        },
        {
          "output_type": "execute_result",
          "data": {
            "text/plain": [
              "(2, [])"
            ]
          },
          "metadata": {},
          "execution_count": 22
        }
      ]
    },
    {
      "cell_type": "code",
      "metadata": {
        "colab": {
          "base_uri": "https://localhost:8080/"
        },
        "id": "UfFwZF3ztizY",
        "outputId": "d17a5c9d-650a-4de7-f5b3-01fe14053934"
      },
      "source": [
        "record_data_7 = es.get(index=\"cities\", doc_type=\"geography\", id=7)\n",
        "pprint.pprint(record_data_7)"
      ],
      "execution_count": 23,
      "outputs": [
        {
          "output_type": "stream",
          "name": "stdout",
          "text": [
            "{'_id': '7',\n",
            " '_index': 'cities',\n",
            " '_primary_term': 1,\n",
            " '_seq_no': 6,\n",
            " '_source': {'city': 'Moscow', 'country': 'Russia'},\n",
            " '_type': 'geography',\n",
            " '_version': 1,\n",
            " 'found': True}\n"
          ]
        },
        {
          "output_type": "stream",
          "name": "stderr",
          "text": [
            "/usr/local/lib/python3.7/dist-packages/elasticsearch/connection/base.py:209: ElasticsearchWarning: [types removal] Specifying types in document get requests is deprecated, use the /{index}/_doc/{id} endpoint instead.\n",
            "  warnings.warn(message, category=ElasticsearchWarning)\n"
          ]
        }
      ]
    },
    {
      "cell_type": "markdown",
      "metadata": {
        "id": "tGiEewLvvnxv"
      },
      "source": [
        "### Search query and matching documents"
      ]
    },
    {
      "cell_type": "code",
      "metadata": {
        "id": "vRPUxnXovp4x"
      },
      "source": [
        "doc_8 = {\"text\":\"This is the first test text!\"}\n",
        "doc_9 = {\"text\":\"This is the second test text!\"}\n",
        "doc_10 = {\"text\":\"Hi, Elasticsearch! This is the third test text!\"}"
      ],
      "execution_count": 24,
      "outputs": []
    },
    {
      "cell_type": "code",
      "metadata": {
        "colab": {
          "base_uri": "https://localhost:8080/"
        },
        "id": "wvkUBp8Pv5SG",
        "outputId": "c46d5915-4b51-48ea-af8e-0df7f1dd4fb0"
      },
      "source": [
        "es.index(index=\"test\", doc_type=\"messages\", id=1, body=doc_8)\n",
        "es.index(index=\"test\", doc_type=\"messages\", id=2, body=doc_9)\n",
        "es.index(index=\"test\", doc_type=\"messages\", id=3, body=doc_10)"
      ],
      "execution_count": 25,
      "outputs": [
        {
          "output_type": "stream",
          "name": "stderr",
          "text": [
            "/usr/local/lib/python3.7/dist-packages/ipykernel_launcher.py:1: DeprecationWarning: The 'body' parameter is deprecated for the 'index' API and will be removed in a future version. Instead use the 'document' parameter. See https://github.com/elastic/elasticsearch-py/issues/1698 for more information\n",
            "  \"\"\"Entry point for launching an IPython kernel.\n",
            "/usr/local/lib/python3.7/dist-packages/elasticsearch/connection/base.py:209: ElasticsearchWarning: [types removal] Specifying types in document index requests is deprecated, use the typeless endpoints instead (/{index}/_doc/{id}, /{index}/_doc, or /{index}/_create/{id}).\n",
            "  warnings.warn(message, category=ElasticsearchWarning)\n",
            "/usr/local/lib/python3.7/dist-packages/ipykernel_launcher.py:2: DeprecationWarning: The 'body' parameter is deprecated for the 'index' API and will be removed in a future version. Instead use the 'document' parameter. See https://github.com/elastic/elasticsearch-py/issues/1698 for more information\n",
            "  \n",
            "/usr/local/lib/python3.7/dist-packages/ipykernel_launcher.py:3: DeprecationWarning: The 'body' parameter is deprecated for the 'index' API and will be removed in a future version. Instead use the 'document' parameter. See https://github.com/elastic/elasticsearch-py/issues/1698 for more information\n",
            "  This is separate from the ipykernel package so we can avoid doing imports until\n"
          ]
        },
        {
          "output_type": "execute_result",
          "data": {
            "text/plain": [
              "{'_id': '3',\n",
              " '_index': 'test',\n",
              " '_primary_term': 1,\n",
              " '_seq_no': 2,\n",
              " '_shards': {'failed': 0, 'successful': 1, 'total': 2},\n",
              " '_type': 'messages',\n",
              " '_version': 1,\n",
              " 'result': 'created'}"
            ]
          },
          "metadata": {},
          "execution_count": 25
        }
      ]
    },
    {
      "cell_type": "code",
      "metadata": {
        "colab": {
          "base_uri": "https://localhost:8080/"
        },
        "id": "o6j4n_AOxdum",
        "outputId": "2e2e3b7e-8b2a-4e90-be18-12fe70da07b3"
      },
      "source": [
        "es.get(index=\"test\", doc_type=\"messages\",id=3)"
      ],
      "execution_count": 26,
      "outputs": [
        {
          "output_type": "stream",
          "name": "stderr",
          "text": [
            "/usr/local/lib/python3.7/dist-packages/elasticsearch/connection/base.py:209: ElasticsearchWarning: [types removal] Specifying types in document get requests is deprecated, use the /{index}/_doc/{id} endpoint instead.\n",
            "  warnings.warn(message, category=ElasticsearchWarning)\n"
          ]
        },
        {
          "output_type": "execute_result",
          "data": {
            "text/plain": [
              "{'_id': '3',\n",
              " '_index': 'test',\n",
              " '_primary_term': 1,\n",
              " '_seq_no': 2,\n",
              " '_source': {'text': 'Hi, Elasticsearch! This is the third test text!'},\n",
              " '_type': 'messages',\n",
              " '_version': 1,\n",
              " 'found': True}"
            ]
          },
          "metadata": {},
          "execution_count": 26
        }
      ]
    },
    {
      "cell_type": "code",
      "metadata": {
        "id": "dl7KKvQax3xm"
      },
      "source": [
        "body = {\n",
        "    \"from\":1,\n",
        "    \"size\":3,\n",
        "    \"query\": {\n",
        "        \"match\": {\n",
        "            \"text\":\"This\"\n",
        "        }\n",
        "    }\n",
        "}"
      ],
      "execution_count": 27,
      "outputs": []
    },
    {
      "cell_type": "code",
      "metadata": {
        "colab": {
          "base_uri": "https://localhost:8080/"
        },
        "id": "qDxiAD_ayc9p",
        "outputId": "419faa20-8f46-469a-8349-68e36d523fa0"
      },
      "source": [
        "res = es.search(index=\"test\", body=body)\n",
        "pprint.pprint(res)"
      ],
      "execution_count": 28,
      "outputs": [
        {
          "output_type": "stream",
          "name": "stdout",
          "text": [
            "{'_shards': {'failed': 0, 'skipped': 0, 'successful': 1, 'total': 1},\n",
            " 'hits': {'hits': [],\n",
            "          'max_score': None,\n",
            "          'total': {'relation': 'eq', 'value': 0}},\n",
            " 'timed_out': False,\n",
            " 'took': 57}\n"
          ]
        },
        {
          "output_type": "stream",
          "name": "stderr",
          "text": [
            "/usr/local/lib/python3.7/dist-packages/ipykernel_launcher.py:1: DeprecationWarning: The 'body' parameter is deprecated for the 'search' API and will be removed in a future version. Instead use API parameters directly. See https://github.com/elastic/elasticsearch-py/issues/1698 for more information\n",
            "  \"\"\"Entry point for launching an IPython kernel.\n"
          ]
        }
      ]
    },
    {
      "cell_type": "markdown",
      "metadata": {
        "id": "J6jjHiooz3g2"
      },
      "source": [
        "### Combining queries"
      ]
    },
    {
      "cell_type": "code",
      "metadata": {
        "id": "IAT-ViWbz5gV"
      },
      "source": [
        "body = {\n",
        "    \"from\":0,\n",
        "    \"size\":3,\n",
        "    \"query\": {\n",
        "        \"bool\": {\n",
        "            \"must\": {\n",
        "                \"match\": {\n",
        "                    \"text\":\"test text!\"\n",
        "                }\n",
        "            },\n",
        "            \"should\": {\n",
        "                \"match\": {\n",
        "                    \"text\": \"Hi, Elasticsearch!\"\n",
        "                }\n",
        "            }\n",
        "        }\n",
        "    }\n",
        "}"
      ],
      "execution_count": 29,
      "outputs": []
    },
    {
      "cell_type": "code",
      "metadata": {
        "colab": {
          "base_uri": "https://localhost:8080/"
        },
        "id": "LMnnZmwq0dVH",
        "outputId": "a2687dbe-ead6-4340-c163-1dc262ae1e74"
      },
      "source": [
        "res = es.search(index=\"test\", body=body)\n",
        "pprint.pprint(res)"
      ],
      "execution_count": 30,
      "outputs": [
        {
          "output_type": "stream",
          "name": "stdout",
          "text": [
            "{'_shards': {'failed': 0, 'skipped': 0, 'successful': 1, 'total': 1},\n",
            " 'hits': {'hits': [],\n",
            "          'max_score': None,\n",
            "          'total': {'relation': 'eq', 'value': 0}},\n",
            " 'timed_out': False,\n",
            " 'took': 16}\n"
          ]
        },
        {
          "output_type": "stream",
          "name": "stderr",
          "text": [
            "/usr/local/lib/python3.7/dist-packages/ipykernel_launcher.py:1: DeprecationWarning: The 'body' parameter is deprecated for the 'search' API and will be removed in a future version. Instead use API parameters directly. See https://github.com/elastic/elasticsearch-py/issues/1698 for more information\n",
            "  \"\"\"Entry point for launching an IPython kernel.\n"
          ]
        }
      ]
    },
    {
      "cell_type": "code",
      "metadata": {
        "id": "sqx0JIom3mmw"
      },
      "source": [
        "body = {\n",
        "    \"from\":0,\n",
        "    \"size\":3,\n",
        "    \"query\": {\n",
        "        \"bool\": {\n",
        "            \"must\": {\n",
        "                \"match\": {\n",
        "                    \"text\":\"test text!\"\n",
        "                }\n",
        "            },\n",
        "            \"must_not\": {\n",
        "                \"match\": {\n",
        "                    \"text\": \"Hi, Elasticsearch!\"\n",
        "                }\n",
        "            }\n",
        "        }\n",
        "    }\n",
        "}"
      ],
      "execution_count": 31,
      "outputs": []
    },
    {
      "cell_type": "code",
      "metadata": {
        "colab": {
          "base_uri": "https://localhost:8080/"
        },
        "id": "q4_SWWGp3o-U",
        "outputId": "57be98e1-dda1-482c-f0e5-aef519c59c42"
      },
      "source": [
        "res = es.search(index=\"test\", body=body)\n",
        "pprint.pprint(res)"
      ],
      "execution_count": 32,
      "outputs": [
        {
          "output_type": "stream",
          "name": "stderr",
          "text": [
            "/usr/local/lib/python3.7/dist-packages/ipykernel_launcher.py:1: DeprecationWarning: The 'body' parameter is deprecated for the 'search' API and will be removed in a future version. Instead use API parameters directly. See https://github.com/elastic/elasticsearch-py/issues/1698 for more information\n",
            "  \"\"\"Entry point for launching an IPython kernel.\n"
          ]
        },
        {
          "output_type": "stream",
          "name": "stdout",
          "text": [
            "{'_shards': {'failed': 0, 'skipped': 0, 'successful': 1, 'total': 1},\n",
            " 'hits': {'hits': [],\n",
            "          'max_score': None,\n",
            "          'total': {'relation': 'eq', 'value': 0}},\n",
            " 'timed_out': False,\n",
            " 'took': 9}\n"
          ]
        }
      ]
    },
    {
      "cell_type": "code",
      "metadata": {
        "id": "lxo89ivF36u8"
      },
      "source": [
        "body = {\n",
        "    \"from\":0,\n",
        "    \"size\":3,\n",
        "    \"query\": {\n",
        "        \"bool\": {\n",
        "            \"must\": {\n",
        "                \"match\": {\n",
        "                    \"text\":\"test text!\"\n",
        "                }\n",
        "            },\n",
        "            \"filter\": {\n",
        "                \"match\": {\n",
        "                    \"text\": \"Hi, Elasticsearch!\"\n",
        "                }\n",
        "            }\n",
        "        }\n",
        "    }\n",
        "}"
      ],
      "execution_count": 33,
      "outputs": []
    },
    {
      "cell_type": "code",
      "metadata": {
        "colab": {
          "base_uri": "https://localhost:8080/"
        },
        "id": "b2YXryxU4FCQ",
        "outputId": "42ced0fb-beea-4503-e642-cf16f98fbefb"
      },
      "source": [
        "res = es.search(index=\"test\", body=body)\n",
        "pprint.pprint(res)"
      ],
      "execution_count": 34,
      "outputs": [
        {
          "output_type": "stream",
          "name": "stdout",
          "text": [
            "{'_shards': {'failed': 0, 'skipped': 0, 'successful': 1, 'total': 1},\n",
            " 'hits': {'hits': [],\n",
            "          'max_score': None,\n",
            "          'total': {'relation': 'eq', 'value': 0}},\n",
            " 'timed_out': False,\n",
            " 'took': 2}\n"
          ]
        },
        {
          "output_type": "stream",
          "name": "stderr",
          "text": [
            "/usr/local/lib/python3.7/dist-packages/ipykernel_launcher.py:1: DeprecationWarning: The 'body' parameter is deprecated for the 'search' API and will be removed in a future version. Instead use API parameters directly. See https://github.com/elastic/elasticsearch-py/issues/1698 for more information\n",
            "  \"\"\"Entry point for launching an IPython kernel.\n"
          ]
        }
      ]
    },
    {
      "cell_type": "code",
      "metadata": {
        "id": "SiejUDnw2CuG"
      },
      "source": [
        "body = {\n",
        "    \"from\":0,\n",
        "    \"size\":3,\n",
        "    \"query\": {\n",
        "        \"match\": {\n",
        "           \"text\": {\"query\":\"Hi This\",\n",
        "                      \"operator\":\"and\"}\n",
        "        }\n",
        "    }\n",
        "}"
      ],
      "execution_count": 35,
      "outputs": []
    },
    {
      "cell_type": "code",
      "metadata": {
        "colab": {
          "base_uri": "https://localhost:8080/"
        },
        "id": "Ewjd6Sdx2E_H",
        "outputId": "d2ac5069-bb34-4e28-e7ad-4276b740b678"
      },
      "source": [
        "res = es.search(index=\"test\", body=body)\n",
        "pprint.pprint(res)"
      ],
      "execution_count": 36,
      "outputs": [
        {
          "output_type": "stream",
          "name": "stdout",
          "text": [
            "{'_shards': {'failed': 0, 'skipped': 0, 'successful': 1, 'total': 1},\n",
            " 'hits': {'hits': [],\n",
            "          'max_score': None,\n",
            "          'total': {'relation': 'eq', 'value': 0}},\n",
            " 'timed_out': False,\n",
            " 'took': 1}\n"
          ]
        },
        {
          "output_type": "stream",
          "name": "stderr",
          "text": [
            "/usr/local/lib/python3.7/dist-packages/ipykernel_launcher.py:1: DeprecationWarning: The 'body' parameter is deprecated for the 'search' API and will be removed in a future version. Instead use API parameters directly. See https://github.com/elastic/elasticsearch-py/issues/1698 for more information\n",
            "  \"\"\"Entry point for launching an IPython kernel.\n"
          ]
        }
      ]
    },
    {
      "cell_type": "markdown",
      "metadata": {
        "id": "wzD9h8194N9k"
      },
      "source": [
        "### Regular Expressions Queries\n",
        "### Error!"
      ]
    },
    {
      "cell_type": "code",
      "metadata": {
        "id": "D53D9k284Rpt"
      },
      "source": [
        "body = {\n",
        "    \"from\":0,\n",
        "    \"size\":3,\n",
        "    \"query\": {\n",
        "        \"regexp\": {\n",
        "            \"text\":{\"value\":\"This is the (first|second) test text!\",\n",
        "                    \"flags\":\"ALL\"}\n",
        "        }\n",
        "    }\n",
        "}"
      ],
      "execution_count": 37,
      "outputs": []
    },
    {
      "cell_type": "code",
      "metadata": {
        "colab": {
          "base_uri": "https://localhost:8080/"
        },
        "id": "JoBNJ2834jbF",
        "outputId": "f8c3caeb-a134-4c50-9636-ddee83104057"
      },
      "source": [
        "res = es.search(index=\"test\", body=body)\n",
        "pprint.pprint(res)"
      ],
      "execution_count": 38,
      "outputs": [
        {
          "output_type": "stream",
          "name": "stderr",
          "text": [
            "/usr/local/lib/python3.7/dist-packages/ipykernel_launcher.py:1: DeprecationWarning: The 'body' parameter is deprecated for the 'search' API and will be removed in a future version. Instead use API parameters directly. See https://github.com/elastic/elasticsearch-py/issues/1698 for more information\n",
            "  \"\"\"Entry point for launching an IPython kernel.\n"
          ]
        },
        {
          "output_type": "stream",
          "name": "stdout",
          "text": [
            "{'_shards': {'failed': 0, 'skipped': 0, 'successful': 1, 'total': 1},\n",
            " 'hits': {'hits': [],\n",
            "          'max_score': None,\n",
            "          'total': {'relation': 'eq', 'value': 0}},\n",
            " 'timed_out': False,\n",
            " 'took': 34}\n"
          ]
        }
      ]
    }
  ]
}